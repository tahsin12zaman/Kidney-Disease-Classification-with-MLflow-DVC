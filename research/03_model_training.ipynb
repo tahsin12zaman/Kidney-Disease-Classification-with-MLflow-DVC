{
 "cells": [
  {
   "cell_type": "code",
   "execution_count": 1,
   "metadata": {},
   "outputs": [],
   "source": [
    "import os"
   ]
  },
  {
   "cell_type": "code",
   "execution_count": 2,
   "metadata": {},
   "outputs": [
    {
     "data": {
      "text/plain": [
       "'d:\\\\Kidney-Disease-Classification-with-MLflow-DVC\\\\research'"
      ]
     },
     "execution_count": 2,
     "metadata": {},
     "output_type": "execute_result"
    }
   ],
   "source": [
    "%pwd"
   ]
  },
  {
   "cell_type": "code",
   "execution_count": 3,
   "metadata": {},
   "outputs": [],
   "source": [
    "os.chdir(\"../\")"
   ]
  },
  {
   "cell_type": "code",
   "execution_count": 4,
   "metadata": {},
   "outputs": [
    {
     "data": {
      "text/plain": [
       "'d:\\\\Kidney-Disease-Classification-with-MLflow-DVC'"
      ]
     },
     "execution_count": 4,
     "metadata": {},
     "output_type": "execute_result"
    }
   ],
   "source": [
    "%pwd"
   ]
  },
  {
   "cell_type": "code",
   "execution_count": 5,
   "metadata": {},
   "outputs": [],
   "source": [
    "from dataclasses import dataclass\n",
    "from pathlib import Path\n",
    "\n",
    "\n",
    "@dataclass(frozen=True)\n",
    "class TrainingConfig:\n",
    "    root_dir: Path\n",
    "    trained_model_path: Path\n",
    "    updated_base_model_path: Path\n",
    "    training_data: Path\n",
    "    params_epochs: int\n",
    "    params_batch_size: int\n",
    "    params_is_augmentation: bool\n",
    "    params_image_size: list"
   ]
  },
  {
   "cell_type": "code",
   "execution_count": 6,
   "metadata": {},
   "outputs": [],
   "source": [
    "from cnnClassifier.constants import *\n",
    "from cnnClassifier.utils.common import read_yaml, create_directories\n",
    "import tensorflow as tf"
   ]
  },
  {
   "cell_type": "code",
   "execution_count": 7,
   "metadata": {},
   "outputs": [],
   "source": [
    "class ConfigurationManager:\n",
    "    def __init__(\n",
    "        self,\n",
    "        config_filepath = CONFIG_FILE_PATH,\n",
    "        params_filepath = PARAMS_FILE_PATH):\n",
    "\n",
    "        self.config = read_yaml(config_filepath)\n",
    "        self.params = read_yaml(params_filepath)\n",
    "\n",
    "        create_directories([self.config.artifacts_root])\n",
    "\n",
    "\n",
    "    \n",
    "    def get_training_config(self) -> TrainingConfig:\n",
    "        training = self.config.training\n",
    "        prepare_base_model = self.config.prepare_base_model\n",
    "        params = self.params\n",
    "        training_data = os.path.join(self.config.data_ingestion.unzip_dir, \"kidney-ct-scan-image\")\n",
    "        create_directories([\n",
    "            Path(training.root_dir)\n",
    "        ])\n",
    "\n",
    "        training_config = TrainingConfig(\n",
    "            root_dir=Path(training.root_dir),\n",
    "            trained_model_path=Path(training.trained_model_path),\n",
    "            updated_base_model_path=Path(prepare_base_model.updated_base_model_path),\n",
    "            training_data=Path(training_data),\n",
    "            params_epochs=params.EPOCHS,\n",
    "            params_batch_size=params.BATCH_SIZE,\n",
    "            params_is_augmentation=params.AUGMENTATION,\n",
    "            params_image_size=params.IMAGE_SIZE\n",
    "        )\n",
    "\n",
    "        return training_config"
   ]
  },
  {
   "cell_type": "code",
   "execution_count": 8,
   "metadata": {},
   "outputs": [],
   "source": [
    "import os\n",
    "import urllib.request as request\n",
    "from zipfile import ZipFile\n",
    "import tensorflow as tf\n",
    "import time"
   ]
  },
  {
   "cell_type": "code",
   "execution_count": 9,
   "metadata": {},
   "outputs": [],
   "source": [
    "class Training:\n",
    "    def __init__(self, config: TrainingConfig):\n",
    "        self.config = config\n",
    "\n",
    "    \n",
    "    def get_base_model(self):\n",
    "        self.model = tf.keras.models.load_model(\n",
    "            self.config.updated_base_model_path\n",
    "        )\n",
    "\n",
    "    def train_valid_generator(self):\n",
    "\n",
    "        datagenerator_kwargs = dict(\n",
    "            rescale = 1./255,\n",
    "            validation_split=0.20\n",
    "        )\n",
    "\n",
    "        dataflow_kwargs = dict(\n",
    "            target_size=self.config.params_image_size[:-1],\n",
    "            batch_size=self.config.params_batch_size,\n",
    "            interpolation=\"bilinear\"\n",
    "        )\n",
    "\n",
    "        valid_datagenerator = tf.keras.preprocessing.image.ImageDataGenerator(\n",
    "            **datagenerator_kwargs\n",
    "        )\n",
    "\n",
    "        self.valid_generator = valid_datagenerator.flow_from_directory(\n",
    "            directory=self.config.training_data,\n",
    "            subset=\"validation\",\n",
    "            shuffle=False,\n",
    "            **dataflow_kwargs\n",
    "        )\n",
    "\n",
    "        if self.config.params_is_augmentation:\n",
    "            train_datagenerator = tf.keras.preprocessing.image.ImageDataGenerator(\n",
    "                rotation_range=40,\n",
    "                horizontal_flip=True,\n",
    "                width_shift_range=0.2,\n",
    "                height_shift_range=0.2,\n",
    "                shear_range=0.2,\n",
    "                zoom_range=0.2,\n",
    "                **datagenerator_kwargs\n",
    "            )\n",
    "        else:\n",
    "            train_datagenerator = valid_datagenerator\n",
    "\n",
    "        self.train_generator = train_datagenerator.flow_from_directory(\n",
    "            directory=self.config.training_data,\n",
    "            subset=\"training\",\n",
    "            shuffle=True,\n",
    "            **dataflow_kwargs\n",
    "        )\n",
    "\n",
    "    \n",
    "    @staticmethod\n",
    "    def save_model(path: Path, model: tf.keras.Model):\n",
    "        model.save(path)\n",
    "\n",
    "\n",
    "\n",
    "    \n",
    "    def train(self):\n",
    "        self.steps_per_epoch = self.train_generator.samples // self.train_generator.batch_size\n",
    "        self.validation_steps = self.valid_generator.samples // self.valid_generator.batch_size\n",
    "\n",
    "        self.model.fit(\n",
    "            self.train_generator,\n",
    "            epochs=self.config.params_epochs,\n",
    "            steps_per_epoch=self.steps_per_epoch,\n",
    "            validation_steps=self.validation_steps,\n",
    "            validation_data=self.valid_generator\n",
    "        )\n",
    "\n",
    "        self.save_model(\n",
    "            path=self.config.trained_model_path,\n",
    "            model=self.model\n",
    "        )"
   ]
  },
  {
   "cell_type": "code",
   "execution_count": 10,
   "metadata": {},
   "outputs": [
    {
     "name": "stdout",
     "output_type": "stream",
     "text": [
      "[2023-12-31 04:24:09,286: INFO: common: yaml file: config\\config.yaml loaded successfully]\n",
      "[2023-12-31 04:24:09,295: INFO: common: yaml file: params.yaml loaded successfully]\n",
      "[2023-12-31 04:24:09,296: INFO: common: created directory at: artifacts]\n",
      "[2023-12-31 04:24:09,297: INFO: common: created directory at: artifacts\\training]\n",
      "Found 93 images belonging to 2 classes.\n",
      "Found 372 images belonging to 2 classes.\n",
      "Epoch 1/30\n",
      "23/23 [==============================] - 62s 3s/step - loss: 11.2825 - accuracy: 0.5702 - val_loss: 26.9453 - val_accuracy: 0.4000\n",
      "Epoch 2/30\n",
      "23/23 [==============================] - 74s 3s/step - loss: 6.3027 - accuracy: 0.7022 - val_loss: 4.9322 - val_accuracy: 0.4375\n",
      "Epoch 3/30\n",
      "23/23 [==============================] - 105s 5s/step - loss: 4.5747 - accuracy: 0.7247 - val_loss: 17.5262 - val_accuracy: 0.6000\n",
      "Epoch 4/30\n",
      "23/23 [==============================] - 108s 5s/step - loss: 2.1969 - accuracy: 0.8371 - val_loss: 3.1982 - val_accuracy: 0.6000\n",
      "Epoch 5/30\n",
      "23/23 [==============================] - 105s 5s/step - loss: 3.9229 - accuracy: 0.7753 - val_loss: 0.3979 - val_accuracy: 0.9000\n",
      "Epoch 6/30\n",
      "23/23 [==============================] - 105s 5s/step - loss: 2.6534 - accuracy: 0.8062 - val_loss: 0.3501 - val_accuracy: 0.9625\n",
      "Epoch 7/30\n",
      "23/23 [==============================] - 104s 5s/step - loss: 2.5665 - accuracy: 0.8118 - val_loss: 1.6776 - val_accuracy: 0.6750\n",
      "Epoch 8/30\n",
      "23/23 [==============================] - 105s 5s/step - loss: 1.0313 - accuracy: 0.8708 - val_loss: 0.1881 - val_accuracy: 0.9250\n",
      "Epoch 9/30\n",
      "23/23 [==============================] - 108s 5s/step - loss: 1.7342 - accuracy: 0.8567 - val_loss: 8.2045 - val_accuracy: 0.6000\n",
      "Epoch 10/30\n",
      "23/23 [==============================] - 107s 5s/step - loss: 1.2434 - accuracy: 0.8708 - val_loss: 0.0061 - val_accuracy: 1.0000\n",
      "Epoch 11/30\n",
      "23/23 [==============================] - 106s 5s/step - loss: 0.5615 - accuracy: 0.9354 - val_loss: 0.0079 - val_accuracy: 1.0000\n",
      "Epoch 12/30\n",
      "23/23 [==============================] - 102s 4s/step - loss: 0.4644 - accuracy: 0.9382 - val_loss: 0.7078 - val_accuracy: 0.7750\n",
      "Epoch 13/30\n",
      "23/23 [==============================] - 106s 5s/step - loss: 0.2346 - accuracy: 0.9635 - val_loss: 1.5626e-04 - val_accuracy: 1.0000\n",
      "Epoch 14/30\n",
      "23/23 [==============================] - 81s 3s/step - loss: 0.0656 - accuracy: 0.9831 - val_loss: 2.0050e-05 - val_accuracy: 1.0000\n",
      "Epoch 15/30\n",
      "23/23 [==============================] - 80s 3s/step - loss: 0.1879 - accuracy: 0.9607 - val_loss: 2.0136e-05 - val_accuracy: 1.0000\n",
      "Epoch 16/30\n",
      "23/23 [==============================] - 106s 5s/step - loss: 0.0607 - accuracy: 0.9888 - val_loss: 2.1086e-05 - val_accuracy: 1.0000\n",
      "Epoch 17/30\n",
      "23/23 [==============================] - 97s 4s/step - loss: 1.8732 - accuracy: 0.8736 - val_loss: 0.2759 - val_accuracy: 0.9625\n",
      "Epoch 18/30\n",
      "23/23 [==============================] - 74s 3s/step - loss: 0.1672 - accuracy: 0.9663 - val_loss: 0.1087 - val_accuracy: 0.9375\n",
      "Epoch 19/30\n",
      "23/23 [==============================] - 73s 3s/step - loss: 0.1110 - accuracy: 0.9803 - val_loss: 0.4855 - val_accuracy: 0.9250\n",
      "Epoch 20/30\n",
      "23/23 [==============================] - 128s 6s/step - loss: 0.3405 - accuracy: 0.9410 - val_loss: 0.0044 - val_accuracy: 1.0000\n",
      "Epoch 21/30\n",
      "23/23 [==============================] - 107s 5s/step - loss: 0.1013 - accuracy: 0.9810 - val_loss: 2.0008e-05 - val_accuracy: 1.0000\n",
      "Epoch 22/30\n",
      "23/23 [==============================] - 106s 5s/step - loss: 0.0456 - accuracy: 0.9916 - val_loss: 2.3401e-04 - val_accuracy: 1.0000\n",
      "Epoch 23/30\n",
      "23/23 [==============================] - 1697s 77s/step - loss: 1.1676 - accuracy: 0.8680 - val_loss: 0.2194 - val_accuracy: 0.9625\n",
      "Epoch 24/30\n",
      "23/23 [==============================] - 23527s 1069s/step - loss: 0.3608 - accuracy: 0.9410 - val_loss: 7.9870e-04 - val_accuracy: 1.0000\n",
      "Epoch 25/30\n",
      "23/23 [==============================] - 68s 3s/step - loss: 1.8554 - accuracy: 0.8708 - val_loss: 0.6112 - val_accuracy: 0.8625\n",
      "Epoch 26/30\n",
      "23/23 [==============================] - 67s 3s/step - loss: 0.7571 - accuracy: 0.8913 - val_loss: 7.3046e-05 - val_accuracy: 1.0000\n",
      "Epoch 27/30\n",
      "23/23 [==============================] - 62s 3s/step - loss: 0.3718 - accuracy: 0.9579 - val_loss: 23.6332 - val_accuracy: 0.6000\n",
      "Epoch 28/30\n",
      "23/23 [==============================] - 62s 3s/step - loss: 0.8391 - accuracy: 0.9635 - val_loss: 9.1836e-05 - val_accuracy: 1.0000\n",
      "Epoch 29/30\n",
      "23/23 [==============================] - 70s 3s/step - loss: 2.7421 - accuracy: 0.8230 - val_loss: 0.0099 - val_accuracy: 1.0000\n",
      "Epoch 30/30\n",
      "23/23 [==============================] - 62s 3s/step - loss: 0.4477 - accuracy: 0.9522 - val_loss: 0.1676 - val_accuracy: 0.9375\n"
     ]
    }
   ],
   "source": [
    "try:\n",
    "    config = ConfigurationManager()\n",
    "    training_config = config.get_training_config()\n",
    "    training = Training(config=training_config)\n",
    "    training.get_base_model()\n",
    "    training.train_valid_generator()\n",
    "    training.train()\n",
    "    \n",
    "except Exception as e:\n",
    "    raise e"
   ]
  },
  {
   "cell_type": "code",
   "execution_count": null,
   "metadata": {},
   "outputs": [],
   "source": []
  },
  {
   "cell_type": "code",
   "execution_count": null,
   "metadata": {},
   "outputs": [],
   "source": []
  }
 ],
 "metadata": {
  "kernelspec": {
   "display_name": "kidney",
   "language": "python",
   "name": "python3"
  },
  "language_info": {
   "codemirror_mode": {
    "name": "ipython",
    "version": 3
   },
   "file_extension": ".py",
   "mimetype": "text/x-python",
   "name": "python",
   "nbconvert_exporter": "python",
   "pygments_lexer": "ipython3",
   "version": "3.8.18"
  }
 },
 "nbformat": 4,
 "nbformat_minor": 2
}
